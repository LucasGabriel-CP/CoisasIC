{
 "cells": [
  {
   "attachments": {},
   "cell_type": "markdown",
   "metadata": {},
   "source": [
    "Aqui estão os trem de estudo"
   ]
  },
  {
   "cell_type": "code",
   "execution_count": 31,
   "metadata": {},
   "outputs": [],
   "source": [
    "import gurobipy as gp\n",
    "import numpy as np\n",
    "import pandas as pd\n",
    "from math import *"
   ]
  },
  {
   "cell_type": "code",
   "execution_count": 32,
   "metadata": {},
   "outputs": [],
   "source": [
    "df_ori_dest = pd.read_csv('./dados/origem_porto.csv')\n",
    "df_ori_trans = pd.read_csv('./dados/origem_transbordo.csv')\n",
    "df_trans_porto = pd.read_csv('./dados/transbordo_porto.csv')"
   ]
  },
  {
   "cell_type": "code",
   "execution_count": 35,
   "metadata": {},
   "outputs": [],
   "source": [
    "df_supply = pd.read_csv('./dados/supply.csv')\n",
    "df_cap_port = pd.read_csv('./dados/cap_porto.csv')\n",
    "df_cap_trans = pd.read_csv('./dados/cap_transbordo.csv')\n",
    "df_demand = pd.read_csv('./dados/demand.csv')"
   ]
  },
  {
   "cell_type": "code",
   "execution_count": 36,
   "metadata": {},
   "outputs": [],
   "source": [
    "qnt_orig = df_supply.shape[0]\n",
    "qnt_trans = df_cap_trans.shape[0]\n",
    "qnt_port = df_cap_port.shape[0]\n",
    "qnt_cli = df_demand.shape[0]"
   ]
  },
  {
   "cell_type": "code",
   "execution_count": 37,
   "metadata": {},
   "outputs": [
    {
     "data": {
      "text/plain": [
       "3"
      ]
     },
     "execution_count": 37,
     "metadata": {},
     "output_type": "execute_result"
    }
   ],
   "source": [
    "df_cap_port.shape[0]"
   ]
  },
  {
   "cell_type": "code",
   "execution_count": 30,
   "metadata": {},
   "outputs": [
    {
     "name": "stdout",
     "output_type": "stream",
     "text": [
      "0 7\n",
      "0 8\n",
      "0 9\n",
      "0 7\n",
      "0 8\n",
      "0 9\n",
      "1 7\n",
      "1 8\n",
      "1 9\n",
      "1 7\n",
      "1 8\n",
      "1 9\n",
      "2 7\n",
      "2 8\n",
      "2 9\n",
      "2 7\n",
      "2 8\n",
      "2 9\n",
      "3 7\n",
      "3 8\n",
      "3 9\n",
      "3 7\n",
      "3 8\n",
      "3 9\n"
     ]
    }
   ],
   "source": [
    "N = [i for i in range(qnt_orig)]\n",
    "M = [i + qnt_orig + qnt_port for i in range(qnt_port)]\n",
    "T = [i + qnt_orig for i in range(qnt_trans)]\n",
    "K = [0, 1]\n",
    "O = [10]\n",
    "\n",
    "supply = {}\n",
    "for i in N:\n",
    "    supply[i] = df_supply['0'][i]\n",
    "\n",
    "demand = {}\n",
    "for i in M:\n",
    "    demand[i] = df_cap_port['0'][i - M[0]]\n",
    "\n",
    "ways = {}\n",
    "for i in M:\n",
    "    aux = []\n",
    "    for t in T:\n",
    "        aux.append(t)\n",
    "    ways[i] = {j for j in aux}\n",
    "\n",
    "cost = {}\n",
    "for i in N:\n",
    "    for j in M:\n",
    "        cost[i, j, 0, 10] = {df_ori_dest[str(j - M[0])][i]}\n",
    "for i in N:\n",
    "    for k in T:\n",
    "        for j in M:\n",
    "            print(i, j)\n",
    "            cost[i, j, k, 10] = {df_ori_trans[str(k - T[0])][i] + df_trans_porto[str(j - M[0])][k - T[0]]}"
   ]
  },
  {
   "cell_type": "code",
   "execution_count": 24,
   "metadata": {},
   "outputs": [
    {
     "data": {
      "text/plain": [
       "[5]"
      ]
     },
     "execution_count": 24,
     "metadata": {},
     "output_type": "execute_result"
    }
   ],
   "source": [
    "M"
   ]
  },
  {
   "cell_type": "code",
   "execution_count": 252,
   "metadata": {},
   "outputs": [
    {
     "name": "stdout",
     "output_type": "stream",
     "text": [
      "12471100 25885000\n"
     ]
    }
   ],
   "source": [
    "N = [1, 2, 3, 4]\n",
    "M = [7, 8, 9]\n",
    "K = [0, 1]\n",
    "O = [10]\n",
    "\n",
    "supply  = {1: 2473300, 2: 2826400, 3: 2048100, 4: 5123300}\n",
    "\n",
    "demand = {7: 6128000, 8: 16589000, 9: 3168000}\n",
    "\n",
    "\n",
    "# cost = {(1, 7): 125.1, (1, 8): 304.8, (1, 9): 198.7, (1, 5): 102.2, (1, 6): 269.8,\n",
    "#         (2, 7): 188.0, (2, 8): 240.4, (2, 9): 191.4, (2, 5): 63.2, (2, 6): 205.7,\n",
    "#         (3, 7): 131.8, (3, 8): 297.5, (3, 9): 177.1, (3, 5): 98.1, (3, 6): 264.2,\n",
    "#         (4, 7): 190.9, (4, 8): 228.5, (4, 9): 139.8, (4, 5): 106.9, (4, 6): 206.8,\n",
    "#         (5, 7): 11.2, (5, 8): 10000, (5, 9): 10000, (6, 8): 13.5, (6, 7): 10000, (6, 9): 10000}\n",
    "\n",
    "\n",
    "ways = {7: {0, 1}, 8: {0, 1}, 9: {0}}\n",
    "cost = {\n",
    "    (1, 7, 0): 125.1, (1, 8, 0): 304.8, (1, 9, 0): 198.7,\n",
    "    (1, 7, 1): 113.4, (1, 8, 1): 283.3,\n",
    "    (2, 7, 0): 188.0, (2, 8, 0): 240.4, (2, 9, 0): 191.4,\n",
    "    (2, 7, 1): 74.4, (2, 8, 1): 219.2,\n",
    "    (3, 7, 0): 131.8, (3, 8, 0): 297.5, (3, 9, 0): 177.1,\n",
    "    (3, 7, 1): 109.3, (3, 8, 1): 277.7,\n",
    "    (4, 7, 0): 190.9, (4, 8, 0): 228.5, (4, 9, 0): 139.8,\n",
    "    (4, 7, 1): 118.1, (4, 8, 1): 220.3,\n",
    "}\n",
    "\n",
    "\n",
    "oferta_total = 0\n",
    "for i in supply:\n",
    "    oferta_total += supply[i]\n",
    "demanda_total = 0\n",
    "for i in demand:\n",
    "    demanda_total += demand[i]\n",
    "print(oferta_total, demanda_total)"
   ]
  },
  {
   "cell_type": "code",
   "execution_count": 253,
   "metadata": {},
   "outputs": [],
   "source": [
    "m = gp.Model(\"probrema\")"
   ]
  },
  {
   "cell_type": "code",
   "execution_count": 254,
   "metadata": {},
   "outputs": [],
   "source": [
    "X = {}\n",
    "for i in N:\n",
    "    for j in M:\n",
    "        for k in K:\n",
    "            if not k in ways[j]: continue\n",
    "            for o in O:\n",
    "                X[i, j, k, o] = m.addVar(vtype=gp.GRB.CONTINUOUS, lb=0, name=\"X_{}_{}_{}_{}\".format(i, j, k, o))\n",
    "\n",
    "# for k in K:\n",
    "#     for j in M:\n",
    "#         for o in O:\n",
    "#             X[k, j, o] = m.addVar(vtype=gp.GRB.CONTINUOUS, lb=0, name=\"X_{}_{}_{}\".format(k, j, o))\n",
    "\n",
    "# for i in N:\n",
    "#     for j in M:\n",
    "#         for o in O:\n",
    "#             X[i, j, o] = m.addVar(vtype=gp.GRB.CONTINUOUS, lb=0, name=\"X_{}_{}_{}\".format(i, j, o))"
   ]
  },
  {
   "cell_type": "code",
   "execution_count": 255,
   "metadata": {},
   "outputs": [],
   "source": [
    "# m.setObjective(\n",
    "#     gp.quicksum(X[i, k, o] * cost[i, k] for i in N for k in K for o in O) + \\\n",
    "#     gp.quicksum(X[k, j, o] * cost[k, j] for k in K for j in M for o in O) + \\\n",
    "#     gp.quicksum(X[i, j, o] * cost[i, j] for i in N for j in M for o in O)\n",
    "#     ,\n",
    "#     sense=gp.GRB.MINIMIZE)\n",
    "\n",
    "m.setObjective(\n",
    "    gp.quicksum((X[i, j, k, o] * cost[i, j, k]) for i in N for j in M for k in K for o in O if k in ways[j]),\n",
    "    sense=gp.GRB.MINIMIZE\n",
    ")"
   ]
  },
  {
   "cell_type": "code",
   "execution_count": 256,
   "metadata": {},
   "outputs": [],
   "source": [
    "for i in N:\n",
    "    m.addConstr(\n",
    "        gp.quicksum(X[i, j, k, o] for j in M for k in K for o in O if k in ways[j]) == supply[i]\n",
    "    )\n",
    "\n",
    "# for k in K:\n",
    "#     m.addConstr(\n",
    "#         gp.quicksum(X[i, k, o] for i in N for o in O) == gp.quicksum(X[k, j, o] for j in M for o in O)\n",
    "#     )"
   ]
  },
  {
   "cell_type": "code",
   "execution_count": 257,
   "metadata": {},
   "outputs": [],
   "source": [
    "for j in M:\n",
    "    for k in K:\n",
    "        if k not in ways[j]: continue\n",
    "        m.addConstr(\n",
    "            gp.quicksum(X[i, j, k, o] for i in N for o in O) <= demand[j]\n",
    "        )"
   ]
  },
  {
   "cell_type": "code",
   "execution_count": 258,
   "metadata": {},
   "outputs": [
    {
     "data": {
      "text/plain": [
       "{10: <gurobi.Constr *Awaiting Model Update*>}"
      ]
     },
     "execution_count": 258,
     "metadata": {},
     "output_type": "execute_result"
    }
   ],
   "source": [
    "m.addConstrs(\n",
    "    gp.quicksum(X[i, j, k, o] for i in N for j in M for o in O if k in ways[j]) >= 0 for o in O\n",
    ")\n",
    "\n",
    "# m.addConstrs(\n",
    "#     gp.quicksum(X[i, k, o] for i in N for k in K) >= 0 for o in O\n",
    "# )\n",
    "\n",
    "# m.addConstrs(\n",
    "#     gp.quicksum(X[k, j, o] for k in K for j in M) >= 0 for o in O\n",
    "# )"
   ]
  },
  {
   "cell_type": "code",
   "execution_count": 259,
   "metadata": {},
   "outputs": [
    {
     "name": "stdout",
     "output_type": "stream",
     "text": [
      "Gurobi Optimizer version 10.0.0 build v10.0.0rc2 (win64)\n",
      "\n",
      "CPU model: Intel(R) Core(TM) i5-8265U CPU @ 1.60GHz, instruction set [SSE2|AVX|AVX2]\n",
      "Thread count: 4 physical cores, 8 logical processors, using up to 8 threads\n",
      "\n",
      "Optimize a model with 10 rows, 20 columns and 48 nonzeros\n",
      "Model fingerprint: 0x56c368fc\n",
      "Coefficient statistics:\n",
      "  Matrix range     [1e+00, 1e+00]\n",
      "  Objective range  [7e+01, 3e+02]\n",
      "  Bounds range     [0e+00, 0e+00]\n",
      "  RHS range        [2e+06, 2e+07]\n",
      "Presolve removed 3 rows and 4 columns\n",
      "Presolve time: 0.01s\n",
      "Presolved: 7 rows, 16 columns, 28 nonzeros\n",
      "\n",
      "Iteration    Objective       Primal Inf.    Dual Inf.      Time\n",
      "       0    1.3196754e+09   7.928875e+05   0.000000e+00      0s\n",
      "       3    1.4331492e+09   0.000000e+00   0.000000e+00      0s\n",
      "\n",
      "Solved in 3 iterations and 0.02 seconds (0.00 work units)\n",
      "Optimal objective  1.433149150e+09\n"
     ]
    }
   ],
   "source": [
    "# Executa o modelo\n",
    "m.update()\n",
    "m.optimize()"
   ]
  },
  {
   "cell_type": "code",
   "execution_count": 260,
   "metadata": {},
   "outputs": [],
   "source": [
    "m.write(\"out.sol\")"
   ]
  },
  {
   "cell_type": "code",
   "execution_count": null,
   "metadata": {},
   "outputs": [],
   "source": []
  },
  {
   "cell_type": "code",
   "execution_count": null,
   "metadata": {},
   "outputs": [],
   "source": []
  },
  {
   "cell_type": "code",
   "execution_count": null,
   "metadata": {},
   "outputs": [],
   "source": []
  },
  {
   "cell_type": "code",
   "execution_count": null,
   "metadata": {},
   "outputs": [],
   "source": []
  },
  {
   "cell_type": "code",
   "execution_count": null,
   "metadata": {},
   "outputs": [],
   "source": []
  },
  {
   "cell_type": "code",
   "execution_count": null,
   "metadata": {},
   "outputs": [],
   "source": []
  }
 ],
 "metadata": {
  "kernelspec": {
   "display_name": "Projetinho",
   "language": "python",
   "name": "projetinho"
  },
  "language_info": {
   "codemirror_mode": {
    "name": "ipython",
    "version": 3
   },
   "file_extension": ".py",
   "mimetype": "text/x-python",
   "name": "python",
   "nbconvert_exporter": "python",
   "pygments_lexer": "ipython3",
   "version": "3.9.2"
  },
  "vscode": {
   "interpreter": {
    "hash": "3c3fdd1ba6fa6149e0a55b9d95e637df8fd62d3a04e8e673bb353b444f545e4d"
   }
  }
 },
 "nbformat": 4,
 "nbformat_minor": 4
}
