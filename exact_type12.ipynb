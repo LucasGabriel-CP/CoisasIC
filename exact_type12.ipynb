{
 "cells": [
  {
   "attachments": {},
   "cell_type": "markdown",
   "metadata": {},
   "source": [
    "**Modelo tipo 1 e 2**\n",
    "\n",
    "* Tipo 1: demanda <= oferta\n",
    "\n",
    "* Tipo 2: demanda >= oferta\n",
    "\n",
    "* fim no cliente"
   ]
  },
  {
   "cell_type": "code",
   "execution_count": 42,
   "metadata": {},
   "outputs": [],
   "source": [
    "import gurobipy as gp\n",
    "import numpy as np\n",
    "import pandas as pd\n",
    "from math import *"
   ]
  },
  {
   "cell_type": "code",
   "execution_count": 43,
   "metadata": {},
   "outputs": [],
   "source": [
    "df_ori_dest = pd.read_csv('./dados/origem_porto.csv')\n",
    "df_ori_trans = pd.read_csv('./dados/origem_transbordo.csv')\n",
    "df_trans_porto = pd.read_csv('./dados/transbordo_porto.csv')"
   ]
  },
  {
   "cell_type": "code",
   "execution_count": 44,
   "metadata": {},
   "outputs": [],
   "source": [
    "df_supply = pd.read_csv('./dados/supply.csv')\n",
    "df_cap_port = pd.read_csv('./dados/cap_porto.csv')\n",
    "df_cap_trans = pd.read_csv('./dados/cap_transbordo.csv')\n",
    "df_demand = pd.read_csv('./dados/demand.csv')"
   ]
  },
  {
   "cell_type": "code",
   "execution_count": 45,
   "metadata": {},
   "outputs": [],
   "source": [
    "qnt_orig = df_supply.shape[0]\n",
    "qnt_trans = df_cap_trans.shape[0]\n",
    "qnt_port = df_cap_port.shape[0]\n",
    "qnt_cli = df_demand.shape[0]"
   ]
  },
  {
   "cell_type": "code",
   "execution_count": 46,
   "metadata": {},
   "outputs": [
    {
     "data": {
      "text/html": [
       "<div>\n",
       "<style scoped>\n",
       "    .dataframe tbody tr th:only-of-type {\n",
       "        vertical-align: middle;\n",
       "    }\n",
       "\n",
       "    .dataframe tbody tr th {\n",
       "        vertical-align: top;\n",
       "    }\n",
       "\n",
       "    .dataframe thead th {\n",
       "        text-align: right;\n",
       "    }\n",
       "</style>\n",
       "<table border=\"1\" class=\"dataframe\">\n",
       "  <thead>\n",
       "    <tr style=\"text-align: right;\">\n",
       "      <th></th>\n",
       "      <th>0</th>\n",
       "    </tr>\n",
       "  </thead>\n",
       "  <tbody>\n",
       "    <tr>\n",
       "      <th>0</th>\n",
       "      <td>479</td>\n",
       "    </tr>\n",
       "    <tr>\n",
       "      <th>1</th>\n",
       "      <td>295</td>\n",
       "    </tr>\n",
       "    <tr>\n",
       "      <th>2</th>\n",
       "      <td>621</td>\n",
       "    </tr>\n",
       "    <tr>\n",
       "      <th>3</th>\n",
       "      <td>789</td>\n",
       "    </tr>\n",
       "    <tr>\n",
       "      <th>4</th>\n",
       "      <td>465</td>\n",
       "    </tr>\n",
       "    <tr>\n",
       "      <th>5</th>\n",
       "      <td>530</td>\n",
       "    </tr>\n",
       "    <tr>\n",
       "      <th>6</th>\n",
       "      <td>891</td>\n",
       "    </tr>\n",
       "    <tr>\n",
       "      <th>7</th>\n",
       "      <td>860</td>\n",
       "    </tr>\n",
       "    <tr>\n",
       "      <th>8</th>\n",
       "      <td>630</td>\n",
       "    </tr>\n",
       "    <tr>\n",
       "      <th>9</th>\n",
       "      <td>733</td>\n",
       "    </tr>\n",
       "  </tbody>\n",
       "</table>\n",
       "</div>"
      ],
      "text/plain": [
       "     0\n",
       "0  479\n",
       "1  295\n",
       "2  621\n",
       "3  789\n",
       "4  465\n",
       "5  530\n",
       "6  891\n",
       "7  860\n",
       "8  630\n",
       "9  733"
      ]
     },
     "execution_count": 46,
     "metadata": {},
     "output_type": "execute_result"
    }
   ],
   "source": [
    "df_supply"
   ]
  },
  {
   "cell_type": "code",
   "execution_count": 47,
   "metadata": {},
   "outputs": [
    {
     "data": {
      "text/html": [
       "<div>\n",
       "<style scoped>\n",
       "    .dataframe tbody tr th:only-of-type {\n",
       "        vertical-align: middle;\n",
       "    }\n",
       "\n",
       "    .dataframe tbody tr th {\n",
       "        vertical-align: top;\n",
       "    }\n",
       "\n",
       "    .dataframe thead th {\n",
       "        text-align: right;\n",
       "    }\n",
       "</style>\n",
       "<table border=\"1\" class=\"dataframe\">\n",
       "  <thead>\n",
       "    <tr style=\"text-align: right;\">\n",
       "      <th></th>\n",
       "      <th>0</th>\n",
       "    </tr>\n",
       "  </thead>\n",
       "  <tbody>\n",
       "    <tr>\n",
       "      <th>0</th>\n",
       "      <td>2056</td>\n",
       "    </tr>\n",
       "    <tr>\n",
       "      <th>1</th>\n",
       "      <td>2149</td>\n",
       "    </tr>\n",
       "    <tr>\n",
       "      <th>2</th>\n",
       "      <td>2088</td>\n",
       "    </tr>\n",
       "  </tbody>\n",
       "</table>\n",
       "</div>"
      ],
      "text/plain": [
       "      0\n",
       "0  2056\n",
       "1  2149\n",
       "2  2088"
      ]
     },
     "execution_count": 47,
     "metadata": {},
     "output_type": "execute_result"
    }
   ],
   "source": [
    "df_demand"
   ]
  },
  {
   "cell_type": "code",
   "execution_count": 48,
   "metadata": {},
   "outputs": [],
   "source": [
    "N = [i for i in range(qnt_orig)]\n",
    "M = [i + qnt_orig + qnt_trans for i in range(qnt_port)]\n",
    "K = [i + qnt_orig for i in range(qnt_trans)]\n",
    "O = [i + qnt_orig + qnt_trans + qnt_port for i in range(qnt_cli)]\n",
    "\n",
    "supply = {}\n",
    "for i in N:\n",
    "    supply[i] = df_supply['0'][i]\n",
    "\n",
    "demand = {}\n",
    "for i in O:\n",
    "    demand[i] = df_demand['0'][i - O[0]]\n",
    "\n",
    "ways = {}\n",
    "for i in M:\n",
    "    ways[i] = {k for k in K}\n",
    "\n",
    "cap_transbordo = {}\n",
    "for i in K:\n",
    "    cap_transbordo[i] = df_cap_trans['0'][i - K[0]]\n",
    "\n",
    "cap_port = {}\n",
    "for i in M:\n",
    "    cap_port[i] = df_cap_port['0'][i - M[0]]\n",
    "\n",
    "cost = {}\n",
    "for i in N:\n",
    "    for j in M:\n",
    "        cost[i, j, 0] = df_ori_dest[str(j - M[0])][i]\n",
    "        for k in K:\n",
    "            cost[i, j, k] = df_ori_trans[str(k - K[0])][i] + df_trans_porto[str(j - M[0])][k - K[0]]\n",
    "\n",
    "K.append(0)"
   ]
  },
  {
   "cell_type": "code",
   "execution_count": 49,
   "metadata": {},
   "outputs": [
    {
     "name": "stdout",
     "output_type": "stream",
     "text": [
      "6293 6293\n"
     ]
    }
   ],
   "source": [
    "oferta_total = 0\n",
    "for i in supply:\n",
    "    oferta_total += supply[i]\n",
    "demanda_total = 0\n",
    "for i in demand:\n",
    "    demanda_total += demand[i]\n",
    "\n",
    "cap_transbordo[0] = max(demanda_total, oferta_total)\n",
    "print(oferta_total, demanda_total)"
   ]
  },
  {
   "cell_type": "code",
   "execution_count": 50,
   "metadata": {},
   "outputs": [],
   "source": [
    "m = gp.Model(\"probrema\")"
   ]
  },
  {
   "cell_type": "code",
   "execution_count": 51,
   "metadata": {},
   "outputs": [],
   "source": [
    "X = {}\n",
    "for i in N:\n",
    "    for j in M:\n",
    "        for k in K:\n",
    "            if not k in ways[j]: continue\n",
    "            for o in O:\n",
    "                X[i, j, k, o] = m.addVar(vtype=gp.GRB.CONTINUOUS, lb=0, name=\"X_{}_{}_{}_{}\".format(i, j, k, o))"
   ]
  },
  {
   "cell_type": "code",
   "execution_count": 52,
   "metadata": {},
   "outputs": [],
   "source": [
    "m.setObjective(\n",
    "    gp.quicksum((X[i, j, k, o] * cost[i, j, k]) for i in N for j in M for k in K for o in O if k in ways[j]),\n",
    "    sense=gp.GRB.MINIMIZE\n",
    ")"
   ]
  },
  {
   "cell_type": "code",
   "execution_count": 53,
   "metadata": {},
   "outputs": [],
   "source": [
    "if oferta_total <= demanda_total:\n",
    "    for i in N:\n",
    "        m.addConstr(\n",
    "            gp.quicksum(X[i, j, k, o] for j in M for k in K for o in O if k in ways[j]) == supply[i]\n",
    "        )\n",
    "else:\n",
    "    for i in N:\n",
    "        m.addConstr(\n",
    "            gp.quicksum(X[i, j, k, o] for j in M for k in K for o in O if k in ways[j]) <= supply[i]\n",
    "        )"
   ]
  },
  {
   "cell_type": "code",
   "execution_count": 54,
   "metadata": {},
   "outputs": [],
   "source": [
    "if oferta_total <= demanda_total:\n",
    "    for o in O:\n",
    "        m.addConstr(\n",
    "            gp.quicksum(X[i, j, k, o] for i in N for j in M for k in K if k in ways[j]) <= demand[o]\n",
    "        )\n",
    "else:\n",
    "    for o in O:\n",
    "        m.addConstr(\n",
    "            gp.quicksum(X[i, j, k, o] for i in N for j in M for k in K if k in ways[j]) == demand[o]\n",
    "        )"
   ]
  },
  {
   "cell_type": "code",
   "execution_count": 55,
   "metadata": {},
   "outputs": [],
   "source": [
    "for j in M:\n",
    "    m.addConstr(\n",
    "        gp.quicksum(X[i, j, k, o] for i in N for k in K for o in O if k in ways[j]) <= cap_port[j]\n",
    "    )\n",
    "\n",
    "for k in K:\n",
    "    m.addConstr(\n",
    "        gp.quicksum(X[i, j, k, o] for i in N for j in M for o in O if k in ways[j]) <= cap_transbordo[k]\n",
    "    )"
   ]
  },
  {
   "cell_type": "code",
   "execution_count": 56,
   "metadata": {},
   "outputs": [
    {
     "data": {
      "text/plain": [
       "{21: <gurobi.Constr *Awaiting Model Update*>,\n",
       " 22: <gurobi.Constr *Awaiting Model Update*>,\n",
       " 23: <gurobi.Constr *Awaiting Model Update*>}"
      ]
     },
     "execution_count": 56,
     "metadata": {},
     "output_type": "execute_result"
    }
   ],
   "source": [
    "m.addConstrs(\n",
    "    gp.quicksum(X[i, j, k, o] for i in N for j in M for k in K if k in ways[j]) >= 0 for o in O\n",
    ")"
   ]
  },
  {
   "cell_type": "code",
   "execution_count": 57,
   "metadata": {},
   "outputs": [
    {
     "name": "stdout",
     "output_type": "stream",
     "text": [
      "Gurobi Optimizer version 10.0.0 build v10.0.0rc2 (win64)\n",
      "\n",
      "CPU model: Intel(R) Core(TM) i5-8265U CPU @ 1.60GHz, instruction set [SSE2|AVX|AVX2]\n",
      "Thread count: 4 physical cores, 8 logical processors, using up to 8 threads\n",
      "\n",
      "Optimize a model with 28 rows, 840 columns and 4200 nonzeros\n",
      "Model fingerprint: 0x46b3bb15\n",
      "Coefficient statistics:\n",
      "  Matrix range     [1e+00, 1e+00]\n",
      "  Objective range  [2e+01, 7e+01]\n",
      "  Bounds range     [0e+00, 0e+00]\n",
      "  RHS range        [3e+02, 6e+03]\n",
      "Presolve removed 4 rows and 0 columns\n",
      "Presolve time: 0.00s\n",
      "Presolved: 24 rows, 840 columns, 3360 nonzeros\n",
      "\n",
      "Iteration    Objective       Primal Inf.    Dual Inf.      Time\n",
      "       0    1.7504199e+05   2.253537e+03   0.000000e+00      0s\n",
      "      72    2.6048566e+05   0.000000e+00   0.000000e+00      0s\n",
      "\n",
      "Solved in 72 iterations and 0.01 seconds (0.00 work units)\n",
      "Optimal objective  2.604856567e+05\n"
     ]
    }
   ],
   "source": [
    "# Executa o modelo\n",
    "m.update()\n",
    "m.optimize()"
   ]
  },
  {
   "cell_type": "code",
   "execution_count": 58,
   "metadata": {},
   "outputs": [],
   "source": [
    "m.write(\"out.sol\")"
   ]
  },
  {
   "cell_type": "code",
   "execution_count": null,
   "metadata": {},
   "outputs": [],
   "source": []
  },
  {
   "cell_type": "code",
   "execution_count": null,
   "metadata": {},
   "outputs": [],
   "source": []
  },
  {
   "cell_type": "code",
   "execution_count": null,
   "metadata": {},
   "outputs": [],
   "source": []
  },
  {
   "cell_type": "code",
   "execution_count": null,
   "metadata": {},
   "outputs": [],
   "source": []
  },
  {
   "cell_type": "code",
   "execution_count": null,
   "metadata": {},
   "outputs": [],
   "source": []
  },
  {
   "cell_type": "code",
   "execution_count": null,
   "metadata": {},
   "outputs": [],
   "source": []
  }
 ],
 "metadata": {
  "kernelspec": {
   "display_name": "Projetinho",
   "language": "python",
   "name": "projetinho"
  },
  "language_info": {
   "codemirror_mode": {
    "name": "ipython",
    "version": 3
   },
   "file_extension": ".py",
   "mimetype": "text/x-python",
   "name": "python",
   "nbconvert_exporter": "python",
   "pygments_lexer": "ipython3",
   "version": "3.9.2"
  },
  "vscode": {
   "interpreter": {
    "hash": "3c3fdd1ba6fa6149e0a55b9d95e637df8fd62d3a04e8e673bb353b444f545e4d"
   }
  }
 },
 "nbformat": 4,
 "nbformat_minor": 4
}
