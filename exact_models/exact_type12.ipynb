{
 "cells": [
  {
   "attachments": {},
   "cell_type": "markdown",
   "metadata": {},
   "source": [
    "**Modelo tipo 1 e 2**\n",
    "\n",
    "* Tipo 1: demanda <= oferta\n",
    "\n",
    "* Tipo 2: demanda >= oferta\n",
    "\n",
    "* fim no cliente"
   ]
  },
  {
   "cell_type": "code",
   "execution_count": 1,
   "metadata": {},
   "outputs": [],
   "source": [
    "import gurobipy as gp\n",
    "import numpy as np\n",
    "import pandas as pd\n",
    "from math import *"
   ]
  },
  {
   "cell_type": "code",
   "execution_count": 2,
   "metadata": {},
   "outputs": [],
   "source": [
    "df_ori_dest = pd.read_csv('../dados/origem_porto.csv')\n",
    "df_ori_trans = pd.read_csv('../dados/origem_transbordo.csv')\n",
    "df_trans_porto = pd.read_csv('../dados/transbordo_porto.csv')"
   ]
  },
  {
   "cell_type": "code",
   "execution_count": 3,
   "metadata": {},
   "outputs": [],
   "source": [
    "df_supply = pd.read_csv('../dados/supply.csv')\n",
    "df_cap_port = pd.read_csv('../dados/cap_porto.csv')\n",
    "df_cap_trans = pd.read_csv('../dados/cap_transbordo.csv')\n",
    "df_demand = pd.read_csv('../dados/demand.csv')"
   ]
  },
  {
   "cell_type": "code",
   "execution_count": 4,
   "metadata": {},
   "outputs": [],
   "source": [
    "qnt_orig = df_supply.shape[0]\n",
    "qnt_trans = df_cap_trans.shape[0]\n",
    "qnt_port = df_cap_port.shape[0]\n",
    "qnt_cli = df_demand.shape[0]"
   ]
  },
  {
   "cell_type": "code",
   "execution_count": 5,
   "metadata": {},
   "outputs": [
    {
     "data": {
      "text/html": [
       "<div>\n",
       "<style scoped>\n",
       "    .dataframe tbody tr th:only-of-type {\n",
       "        vertical-align: middle;\n",
       "    }\n",
       "\n",
       "    .dataframe tbody tr th {\n",
       "        vertical-align: top;\n",
       "    }\n",
       "\n",
       "    .dataframe thead th {\n",
       "        text-align: right;\n",
       "    }\n",
       "</style>\n",
       "<table border=\"1\" class=\"dataframe\">\n",
       "  <thead>\n",
       "    <tr style=\"text-align: right;\">\n",
       "      <th></th>\n",
       "      <th>0</th>\n",
       "    </tr>\n",
       "  </thead>\n",
       "  <tbody>\n",
       "    <tr>\n",
       "      <th>0</th>\n",
       "      <td>365</td>\n",
       "    </tr>\n",
       "    <tr>\n",
       "      <th>1</th>\n",
       "      <td>355</td>\n",
       "    </tr>\n",
       "    <tr>\n",
       "      <th>2</th>\n",
       "      <td>346</td>\n",
       "    </tr>\n",
       "    <tr>\n",
       "      <th>3</th>\n",
       "      <td>694</td>\n",
       "    </tr>\n",
       "    <tr>\n",
       "      <th>4</th>\n",
       "      <td>799</td>\n",
       "    </tr>\n",
       "  </tbody>\n",
       "</table>\n",
       "</div>"
      ],
      "text/plain": [
       "     0\n",
       "0  365\n",
       "1  355\n",
       "2  346\n",
       "3  694\n",
       "4  799"
      ]
     },
     "execution_count": 5,
     "metadata": {},
     "output_type": "execute_result"
    }
   ],
   "source": [
    "df_supply"
   ]
  },
  {
   "cell_type": "code",
   "execution_count": 6,
   "metadata": {},
   "outputs": [
    {
     "data": {
      "text/html": [
       "<div>\n",
       "<style scoped>\n",
       "    .dataframe tbody tr th:only-of-type {\n",
       "        vertical-align: middle;\n",
       "    }\n",
       "\n",
       "    .dataframe tbody tr th {\n",
       "        vertical-align: top;\n",
       "    }\n",
       "\n",
       "    .dataframe thead th {\n",
       "        text-align: right;\n",
       "    }\n",
       "</style>\n",
       "<table border=\"1\" class=\"dataframe\">\n",
       "  <thead>\n",
       "    <tr style=\"text-align: right;\">\n",
       "      <th></th>\n",
       "      <th>0</th>\n",
       "    </tr>\n",
       "  </thead>\n",
       "  <tbody>\n",
       "    <tr>\n",
       "      <th>0</th>\n",
       "      <td>826</td>\n",
       "    </tr>\n",
       "    <tr>\n",
       "      <th>1</th>\n",
       "      <td>268</td>\n",
       "    </tr>\n",
       "    <tr>\n",
       "      <th>2</th>\n",
       "      <td>568</td>\n",
       "    </tr>\n",
       "    <tr>\n",
       "      <th>3</th>\n",
       "      <td>587</td>\n",
       "    </tr>\n",
       "    <tr>\n",
       "      <th>4</th>\n",
       "      <td>107</td>\n",
       "    </tr>\n",
       "  </tbody>\n",
       "</table>\n",
       "</div>"
      ],
      "text/plain": [
       "     0\n",
       "0  826\n",
       "1  268\n",
       "2  568\n",
       "3  587\n",
       "4  107"
      ]
     },
     "execution_count": 6,
     "metadata": {},
     "output_type": "execute_result"
    }
   ],
   "source": [
    "df_demand"
   ]
  },
  {
   "cell_type": "code",
   "execution_count": 7,
   "metadata": {},
   "outputs": [
    {
     "data": {
      "text/html": [
       "<div>\n",
       "<style scoped>\n",
       "    .dataframe tbody tr th:only-of-type {\n",
       "        vertical-align: middle;\n",
       "    }\n",
       "\n",
       "    .dataframe tbody tr th {\n",
       "        vertical-align: top;\n",
       "    }\n",
       "\n",
       "    .dataframe thead th {\n",
       "        text-align: right;\n",
       "    }\n",
       "</style>\n",
       "<table border=\"1\" class=\"dataframe\">\n",
       "  <thead>\n",
       "    <tr style=\"text-align: right;\">\n",
       "      <th></th>\n",
       "      <th>0</th>\n",
       "      <th>1</th>\n",
       "      <th>2</th>\n",
       "      <th>3</th>\n",
       "      <th>4</th>\n",
       "    </tr>\n",
       "  </thead>\n",
       "  <tbody>\n",
       "    <tr>\n",
       "      <th>0</th>\n",
       "      <td>87.987960</td>\n",
       "      <td>93.765322</td>\n",
       "      <td>186.947526</td>\n",
       "      <td>104.115745</td>\n",
       "      <td>67.618090</td>\n",
       "    </tr>\n",
       "    <tr>\n",
       "      <th>1</th>\n",
       "      <td>90.007134</td>\n",
       "      <td>89.091878</td>\n",
       "      <td>181.966955</td>\n",
       "      <td>107.352800</td>\n",
       "      <td>70.458703</td>\n",
       "    </tr>\n",
       "    <tr>\n",
       "      <th>2</th>\n",
       "      <td>88.449596</td>\n",
       "      <td>90.980027</td>\n",
       "      <td>184.212746</td>\n",
       "      <td>105.360680</td>\n",
       "      <td>68.587755</td>\n",
       "    </tr>\n",
       "    <tr>\n",
       "      <th>3</th>\n",
       "      <td>87.739254</td>\n",
       "      <td>91.838635</td>\n",
       "      <td>185.232177</td>\n",
       "      <td>104.447890</td>\n",
       "      <td>67.735752</td>\n",
       "    </tr>\n",
       "    <tr>\n",
       "      <th>4</th>\n",
       "      <td>88.206881</td>\n",
       "      <td>94.469172</td>\n",
       "      <td>187.538990</td>\n",
       "      <td>104.113869</td>\n",
       "      <td>67.706097</td>\n",
       "    </tr>\n",
       "  </tbody>\n",
       "</table>\n",
       "</div>"
      ],
      "text/plain": [
       "           0          1           2           3          4\n",
       "0  87.987960  93.765322  186.947526  104.115745  67.618090\n",
       "1  90.007134  89.091878  181.966955  107.352800  70.458703\n",
       "2  88.449596  90.980027  184.212746  105.360680  68.587755\n",
       "3  87.739254  91.838635  185.232177  104.447890  67.735752\n",
       "4  88.206881  94.469172  187.538990  104.113869  67.706097"
      ]
     },
     "execution_count": 7,
     "metadata": {},
     "output_type": "execute_result"
    }
   ],
   "source": [
    "df_ori_dest"
   ]
  },
  {
   "cell_type": "code",
   "execution_count": 8,
   "metadata": {},
   "outputs": [],
   "source": [
    "N = [i for i in range(qnt_orig)]\n",
    "M = [i + qnt_orig + qnt_trans for i in range(qnt_port)]\n",
    "K = [i + qnt_orig for i in range(qnt_trans)]\n",
    "O = [i + qnt_orig + qnt_trans + qnt_port for i in range(qnt_cli)]\n",
    "\n",
    "supply = {}\n",
    "for i in N:\n",
    "    supply[i] = df_supply['0'][i]\n",
    "\n",
    "demand = {}\n",
    "for i in O:\n",
    "    demand[i] = df_demand['0'][i - O[0]]\n",
    "\n",
    "cap_transbordo = {}\n",
    "for i in K:\n",
    "    cap_transbordo[i] = df_cap_trans['0'][i - K[0]]\n",
    "\n",
    "cap_port = {}\n",
    "for i in M:\n",
    "    cap_port[i] = df_cap_port['0'][i - M[0]]\n",
    "\n",
    "cost = {}\n",
    "for i in N:\n",
    "    for j in M:\n",
    "        cost[i, j] = df_ori_dest[str(j - M[0])][i]\n",
    "    for k in K:\n",
    "        cost[i, k] = df_ori_trans[str(k - K[0])][i]\n",
    "\n",
    "for j in M:\n",
    "    for k in K:\n",
    "        cost[k, j] = df_trans_porto[str(j - M[0])][k - K[0]]\n",
    "    for o in O:\n",
    "        cost[j, o] = 0\n"
   ]
  },
  {
   "cell_type": "code",
   "execution_count": 9,
   "metadata": {},
   "outputs": [
    {
     "name": "stdout",
     "output_type": "stream",
     "text": [
      "2559 2356\n"
     ]
    }
   ],
   "source": [
    "oferta_total = 0\n",
    "for i in supply:\n",
    "    oferta_total += supply[i]\n",
    "demanda_total = 0\n",
    "for i in demand:\n",
    "    demanda_total += demand[i]\n",
    "\n",
    "print(oferta_total, demanda_total)"
   ]
  },
  {
   "cell_type": "code",
   "execution_count": 10,
   "metadata": {},
   "outputs": [],
   "source": [
    "m = gp.Model(\"probrema\")"
   ]
  },
  {
   "cell_type": "code",
   "execution_count": 11,
   "metadata": {},
   "outputs": [],
   "source": [
    "X = {}\n",
    "for i in N:\n",
    "    for j in M:\n",
    "        X[i, j] = m.addVar(vtype=gp.GRB.CONTINUOUS, lb=0, name=\"supply_{}_port_{}\".format(i, j))\n",
    "\n",
    "for i in N:\n",
    "    for k in K:\n",
    "        X[i, k] = m.addVar(vtype=gp.GRB.CONTINUOUS, lb=0, name=\"supply_{}_tranship_{}\".format(i, k))\n",
    "                \n",
    "for j in M:\n",
    "    for k in K:\n",
    "        X[k, j] = m.addVar(vtype=gp.GRB.CONTINUOUS, lb=0, name=\"tranship_{}_port_{}\".format(k, j))\n",
    "\n",
    "for j in M:\n",
    "    for o in O:\n",
    "        X[j, o] = m.addVar(vtype=gp.GRB.CONTINUOUS, lb=0, name=\"X_{}_{}\".format(j, o))"
   ]
  },
  {
   "cell_type": "code",
   "execution_count": 12,
   "metadata": {},
   "outputs": [],
   "source": [
    "m.setObjective(\n",
    "    gp.quicksum((X[i, j] * cost[i, j]) for i in N for j in M) + \\\n",
    "    gp.quicksum((X[i, k] * cost[i, k]) for i in N for k in K) + \\\n",
    "    gp.quicksum((X[k, j] * cost[k, j]) for j in M for k in K),\n",
    "    sense=gp.GRB.MINIMIZE\n",
    ")"
   ]
  },
  {
   "cell_type": "code",
   "execution_count": 13,
   "metadata": {},
   "outputs": [],
   "source": [
    "if oferta_total <= demanda_total:\n",
    "    for i in N:\n",
    "        m.addConstr(\n",
    "            (gp.quicksum(X[i, j] for j in M) + gp.quicksum(X[i, k] for k in K)) == supply[i]\n",
    "        )\n",
    "else:\n",
    "    for i in N:\n",
    "        m.addConstr(\n",
    "            (gp.quicksum(X[i, j] for j in M) + gp.quicksum(X[i, k] for k in K)) <= supply[i]\n",
    "        )"
   ]
  },
  {
   "cell_type": "code",
   "execution_count": 14,
   "metadata": {},
   "outputs": [],
   "source": [
    "if oferta_total <= demanda_total:\n",
    "    for o in O:\n",
    "        m.addConstr(\n",
    "            gp.quicksum(X[j, o] for j in M) <= demand[o]\n",
    "        )\n",
    "else:\n",
    "    for o in O:\n",
    "        m.addConstr(\n",
    "            gp.quicksum(X[j, o] for j in M) == demand[o]\n",
    "        )"
   ]
  },
  {
   "cell_type": "code",
   "execution_count": 15,
   "metadata": {},
   "outputs": [],
   "source": [
    "for j in M:\n",
    "    m.addConstr(\n",
    "        (gp.quicksum(X[i, j] for i in N) + gp.quicksum(X[k, j] for k in K)) <= cap_port[j]\n",
    "    )\n",
    "\n",
    "for k in K:\n",
    "    m.addConstr(\n",
    "        gp.quicksum(X[i, k] for i in N) <= cap_transbordo[k]\n",
    "    )\n",
    "\n",
    "for k in K:\n",
    "    m.addConstr(\n",
    "        gp.quicksum(X[i, k] for i in N) == gp.quicksum(X[k, j] for j in M)\n",
    "    )\n",
    "\n",
    "for j in M:\n",
    "    m.addConstr(\n",
    "        gp.quicksum(X[j, o] for o in O) == (gp.quicksum(X[i, j] for i in N) + gp.quicksum(X[k, j] for k in K))\n",
    "    )"
   ]
  },
  {
   "cell_type": "code",
   "execution_count": 16,
   "metadata": {},
   "outputs": [],
   "source": [
    "rest = m.addConstrs(\n",
    "    gp.quicksum(X[i, j] for i in N) >= 0 for j in M\n",
    ")\n",
    "\n",
    "rest = m.addConstrs(\n",
    "    gp.quicksum(X[i, k] for i in N) >= 0 for k in K\n",
    ")\n",
    "\n",
    "rest = m.addConstrs(\n",
    "    gp.quicksum(X[k, j] for k in K) >= 0 for j in M\n",
    ")"
   ]
  },
  {
   "cell_type": "code",
   "execution_count": 17,
   "metadata": {},
   "outputs": [
    {
     "name": "stdout",
     "output_type": "stream",
     "text": [
      "Gurobi Optimizer version 10.0.0 build v10.0.0rc2 (win64)\n",
      "\n",
      "CPU model: Intel(R) Core(TM) i5-8265U CPU @ 1.60GHz, instruction set [SSE2|AVX|AVX2]\n",
      "Thread count: 4 physical cores, 8 logical processors, using up to 8 threads\n",
      "\n",
      "Optimize a model with 45 rows, 100 columns and 350 nonzeros\n",
      "Model fingerprint: 0x7f2f4f9c\n",
      "Coefficient statistics:\n",
      "  Matrix range     [1e+00, 1e+00]\n",
      "  Objective range  [3e+01, 2e+02]\n",
      "  Bounds range     [0e+00, 0e+00]\n",
      "  RHS range        [1e+02, 2e+03]\n",
      "Presolve removed 15 rows and 0 columns\n",
      "Presolve time: 0.01s\n",
      "Presolved: 30 rows, 100 columns, 275 nonzeros\n",
      "\n",
      "Iteration    Objective       Primal Inf.    Dual Inf.      Time\n",
      "       0    0.0000000e+00   2.945000e+02   0.000000e+00      0s\n",
      "      24    1.7972796e+05   0.000000e+00   0.000000e+00      0s\n",
      "\n",
      "Solved in 24 iterations and 0.02 seconds (0.00 work units)\n",
      "Optimal objective  1.797279609e+05\n"
     ]
    }
   ],
   "source": [
    "# Executa o modelo\n",
    "m.update()\n",
    "m.optimize()"
   ]
  },
  {
   "cell_type": "code",
   "execution_count": 18,
   "metadata": {},
   "outputs": [
    {
     "data": {
      "text/plain": [
       "179727.96086490253"
      ]
     },
     "execution_count": 18,
     "metadata": {},
     "output_type": "execute_result"
    }
   ],
   "source": [
    "m.ObjVal"
   ]
  },
  {
   "cell_type": "code",
   "execution_count": null,
   "metadata": {},
   "outputs": [],
   "source": []
  },
  {
   "cell_type": "code",
   "execution_count": null,
   "metadata": {},
   "outputs": [],
   "source": []
  },
  {
   "cell_type": "code",
   "execution_count": null,
   "metadata": {},
   "outputs": [],
   "source": []
  },
  {
   "cell_type": "code",
   "execution_count": null,
   "metadata": {},
   "outputs": [],
   "source": []
  },
  {
   "cell_type": "code",
   "execution_count": null,
   "metadata": {},
   "outputs": [],
   "source": []
  },
  {
   "cell_type": "code",
   "execution_count": null,
   "metadata": {},
   "outputs": [],
   "source": []
  }
 ],
 "metadata": {
  "kernelspec": {
   "display_name": "Projetinho",
   "language": "python",
   "name": "projetinho"
  },
  "language_info": {
   "codemirror_mode": {
    "name": "ipython",
    "version": 3
   },
   "file_extension": ".py",
   "mimetype": "text/x-python",
   "name": "python",
   "nbconvert_exporter": "python",
   "pygments_lexer": "ipython3",
   "version": "3.9.2"
  },
  "vscode": {
   "interpreter": {
    "hash": "3c3fdd1ba6fa6149e0a55b9d95e637df8fd62d3a04e8e673bb353b444f545e4d"
   }
  }
 },
 "nbformat": 4,
 "nbformat_minor": 4
}
