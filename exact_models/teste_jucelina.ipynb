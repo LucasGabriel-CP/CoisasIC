{
 "cells": [
  {
   "attachments": {},
   "cell_type": "markdown",
   "metadata": {},
   "source": [
    "**Modelo tipo 1 e 2**\n",
    "\n",
    "* Tipo 1: demanda <= oferta\n",
    "\n",
    "* Tipo 2: demanda >= oferta\n",
    "\n",
    "* fim no cliente"
   ]
  },
  {
   "cell_type": "code",
   "execution_count": 1,
   "metadata": {},
   "outputs": [],
   "source": [
    "import gurobipy as gp\n",
    "import numpy as np\n",
    "import pandas as pd\n",
    "from math import *\n",
    "from copy import deepcopy"
   ]
  },
  {
   "cell_type": "code",
   "execution_count": 2,
   "metadata": {},
   "outputs": [],
   "source": [
    "qnt_orig = 5\n",
    "qnt_trans = 4\n",
    "qnt_port = 2\n",
    "qnt_cli = 1"
   ]
  },
  {
   "cell_type": "code",
   "execution_count": 3,
   "metadata": {},
   "outputs": [],
   "source": [
    "N = [i for i in range(qnt_orig)]\n",
    "M = [i + qnt_orig + qnt_trans for i in range(qnt_port)]\n",
    "K = [i + qnt_orig for i in range(qnt_trans)]\n",
    "O = [i + qnt_orig + qnt_trans + qnt_port for i in range(qnt_cli)]\n",
    "\n",
    "supply = {\n",
    "    0: 243138,\n",
    "    1: 354063,\n",
    "    2: 143703,\n",
    "    3: 755250,\n",
    "    4: 1253270,\n",
    "}\n",
    "\n",
    "demand = { O[0]: 2749424 }\n",
    "\n",
    "cap_transbordo = {\n",
    "    K[0]: 691205,\n",
    "    K[1]: 1709592,\n",
    "    K[2]: 223253,\n",
    "    K[3]: 125374\n",
    "}\n",
    "\n",
    "cap_port = {\n",
    "    M[0]: 2577035,\n",
    "    M[1]: 172389\n",
    "}"
   ]
  },
  {
   "cell_type": "code",
   "execution_count": 4,
   "metadata": {},
   "outputs": [],
   "source": [
    "cost = {\n",
    "    (0, M[0]): 217.11, (0, M[1]): 276.58,\n",
    "    (1, M[0]): 230.07, (1, M[1]): 261.53,\n",
    "    (2, M[0]): 165.83, (2, M[1]): 226.65,\n",
    "    (3, M[0]): 157.93, (3, M[1]): 184.61,\n",
    "    (4, M[0]): 130.65, (4, M[1]): 186.55,\n",
    "    \n",
    "    (K[0], M[0]): 81.64, (K[0], M[1]): 153.16,\n",
    "    (K[1], M[0]): 93.82, (K[1], M[1]): 141.19,\n",
    "    (K[2], M[0]): 111.78, (K[2], M[1]): 123.23,\n",
    "    (K[3], M[0]): 84.05, (K[3], M[1]): 111.50,\n",
    "    \n",
    "    (0, K[0]): 93.23, (0, K[1]): 70.72, (0, K[2]): 76.09, (0, K[3]): 102.92,\n",
    "    (1, K[0]): 130.35, (1, K[1]):  112.76, (1, K[2]):  73.70, (1, K[3]):  102.62,\n",
    "    (2, K[0]): 69.98, (2, K[1]):  52.39, (2, K[2]):  23.78, (2, K[3]): 45.68,\n",
    "    (3, K[0]): 97.26, (3, K[1]):  89.65, (3, K[2]):  48.51, (3, K[3]): 41.06,\n",
    "    (4, K[0]):  69.98, (4, K[1]):  73.70, (4, K[2]):  53.43, (4, K[3]): 24.57,\n",
    "}\n",
    "\n",
    "emission = {\n",
    "    (0, M[0]): 71450.58, (0, M[1]): 92505.81,\n",
    "    (1, M[0]): 76041.57, (1, M[1]): 87176.04,\n",
    "    (2, M[0]): 53297.7, (2, M[1]): 74827.86,\n",
    "    (3, M[0]): 50500.89, (3, M[1]): 59946.72,\n",
    "    (4, M[0]): 40843.98, (4, M[1]): 60632.73,\n",
    "    \n",
    "    (K[0], M[0]): 54182.3179, (K[0], M[1]): 125865.2939,\n",
    "    (K[1], M[0]): 66409.1727, (K[1], M[1]): 113870.6639,\n",
    "    (K[2], M[0]): 84401.1177, (K[2], M[1]): 95878.7189,\n",
    "    (K[3], M[0]): 56613.5582, (K[3], M[1]): 95878.7189,\n",
    "    \n",
    "    (0, K[0]): 27598.71, (0, K[1]): 19630.44, (0, K[2]): 21530.16, (0, K[3]): 31028.76,\n",
    "    (1, K[0]): 40738.44, (1, K[1]): 34511.58, (1, K[2]): 20685.84, (1, K[3]): 30923.22,\n",
    "    (2, K[0]): 19366.59, (2, K[1]): 13139.73, (2, K[2]): 3013.167, (2, K[3]): 10765.08,\n",
    "    (3, K[0]): 29023.5, (3, K[1]): 26332.23, (3, K[2]): 11767.71, (3, K[3]): 9129.21,\n",
    "    (4, K[0]): 19366.59, (4, K[1]): 20685.84, (4, K[2]): 13509.12, (4, K[3]): 3292.848,\n",
    "}\n",
    "\n",
    "for j in M:\n",
    "    for o in O:\n",
    "        cost[j, o] = 0"
   ]
  },
  {
   "cell_type": "code",
   "execution_count": 5,
   "metadata": {},
   "outputs": [],
   "source": [
    "# cost = {\n",
    "#     (0, M[0]): 20879, (0, M[1]): 27031,\n",
    "#     (1, M[0]): 22220, (1, M[1]): 25474,\n",
    "#     (2, M[0]): 15574, (2, M[1]): 21866,\n",
    "#     (3, M[0]): 14757, (3, M[1]): 17517,\n",
    "#     (4, M[0]): 11935, (4, M[1]): 17718,\n",
    "    \n",
    "#     (K[0], M[0]): 6954.5681, (K[0], M[1]): 16155.4321,\n",
    "#     (K[1], M[0]): 8523.9453, (K[1], M[1]): 14615.8621,\n",
    "#     (K[2], M[0]): 10833.3003, (K[2], M[1]): 12306.5071,\n",
    "#     (K[3], M[0]): 7266.6298, (K[3], M[1]): 12306.5071,\n",
    "    \n",
    "#     (0, K[0]): 8064.66, (0, K[1]): 5736.24, (0, K[2]): 6291.36, (0, K[3]): 9066.96,\n",
    "#     (1, K[0]): 11904.24, (1, K[1]): 10084.68, (1, K[2]): 6044.64, (1, K[3]): 9036.12,\n",
    "#     (2, K[0]): 5659.14, (2, K[1]): 3839.58, (2, K[2]): 880.482, (2, K[3]): 3145.68,\n",
    "#     (3, K[0]): 8481, (3, K[1]): 7694.58, (3, K[2]): 3438.66, (3, K[3]): 2667.66,\n",
    "#     (4, K[0]): 5659.14, (4, K[1]): 6044.64, (4, K[2]): 3947.52, (4, K[3]): 962.208,\n",
    "# }\n",
    "# for j in M:\n",
    "#     for o in O:\n",
    "#         cost[j, o] = 0\n"
   ]
  },
  {
   "cell_type": "code",
   "execution_count": 6,
   "metadata": {},
   "outputs": [
    {
     "name": "stdout",
     "output_type": "stream",
     "text": [
      "ori: [0, 1, 2, 3, 4]\n",
      " port: [9, 10]\n",
      " trans: [5, 6, 7, 8]\n"
     ]
    }
   ],
   "source": [
    "print(f'ori: {N}\\n port: {M}\\n trans: {K}')"
   ]
  },
  {
   "cell_type": "code",
   "execution_count": 7,
   "metadata": {},
   "outputs": [
    {
     "name": "stdout",
     "output_type": "stream",
     "text": [
      "2749424 2749424\n"
     ]
    }
   ],
   "source": [
    "oferta_total = 0\n",
    "for i in supply:\n",
    "    oferta_total += supply[i]\n",
    "demanda_total = 0\n",
    "for i in demand:\n",
    "    demanda_total += demand[i]\n",
    "\n",
    "print(oferta_total, demanda_total)"
   ]
  },
  {
   "cell_type": "code",
   "execution_count": 8,
   "metadata": {},
   "outputs": [],
   "source": [
    "m = gp.Model(\"probrema\")"
   ]
  },
  {
   "cell_type": "code",
   "execution_count": 9,
   "metadata": {},
   "outputs": [],
   "source": [
    "X = {}\n",
    "for i in N:\n",
    "    for j in M:\n",
    "        X[i, j] = m.addVar(vtype=gp.GRB.CONTINUOUS, lb=0, name=\"supply_{}_port_{}\".format(i, j))\n",
    "\n",
    "for i in N:\n",
    "    for k in K:\n",
    "        X[i, k] = m.addVar(vtype=gp.GRB.CONTINUOUS, lb=0, name=\"supply_{}_tranship_{}\".format(i, k))\n",
    "                \n",
    "for j in M:\n",
    "    for k in K:\n",
    "        X[k, j] = m.addVar(vtype=gp.GRB.CONTINUOUS, lb=0, name=\"tranship_{}_port_{}\".format(k, j))\n",
    "\n",
    "for j in M:\n",
    "    for o in O:\n",
    "        X[j, o] = m.addVar(vtype=gp.GRB.CONTINUOUS, lb=0, name=\"X_{}_{}\".format(j, o))"
   ]
  },
  {
   "cell_type": "code",
   "execution_count": 10,
   "metadata": {},
   "outputs": [],
   "source": [
    "m.setObjectiveN(\n",
    "    gp.quicksum((X[i, j] * cost[i, j]) for i in N for j in M) + \\\n",
    "    gp.quicksum((X[i, k] * cost[i, k]) for i in N for k in K) + \\\n",
    "    gp.quicksum((X[k, j] * cost[k, j]) for j in M for k in K),\n",
    "    0,\n",
    "    priority=2,\n",
    "    name=\"Funcao Frete\"\n",
    ")"
   ]
  },
  {
   "cell_type": "code",
   "execution_count": 11,
   "metadata": {},
   "outputs": [],
   "source": [
    "m.setObjectiveN(\n",
    "    gp.quicksum((X[i, j] * emission[i, j]) for i in N for j in M) + \\\n",
    "    gp.quicksum((X[i, k] * emission[i, k]) for i in N for k in K) + \\\n",
    "    gp.quicksum((X[k, j] * emission[k, j]) for j in M for k in K),\n",
    "    1,\n",
    "    priority=1,\n",
    "    name=\"Funcao Emissao CO2\"\n",
    ")"
   ]
  },
  {
   "cell_type": "code",
   "execution_count": 12,
   "metadata": {},
   "outputs": [],
   "source": [
    "if oferta_total <= demanda_total:\n",
    "    for i in N:\n",
    "        m.addConstr(\n",
    "            (gp.quicksum(X[i, j] for j in M) + gp.quicksum(X[i, k] for k in K)) == supply[i]\n",
    "        )\n",
    "else:\n",
    "    for i in N:\n",
    "        m.addConstr(\n",
    "            (gp.quicksum(X[i, j] for j in M) + gp.quicksum(X[i, k] for k in K)) <= supply[i]\n",
    "        )"
   ]
  },
  {
   "cell_type": "code",
   "execution_count": 13,
   "metadata": {},
   "outputs": [],
   "source": [
    "if oferta_total <= demanda_total:\n",
    "    for o in O:\n",
    "        m.addConstr(\n",
    "            gp.quicksum(X[j, o] for j in M) <= demand[o]\n",
    "        )\n",
    "else:\n",
    "    for o in O:\n",
    "        m.addConstr(\n",
    "            gp.quicksum(X[j, o] for j in M) == demand[o]\n",
    "        )"
   ]
  },
  {
   "cell_type": "code",
   "execution_count": 14,
   "metadata": {},
   "outputs": [],
   "source": [
    "for j in M:\n",
    "    m.addConstr(\n",
    "        (gp.quicksum(X[i, j] for i in N) + gp.quicksum(X[k, j] for k in K)) <= cap_port[j]\n",
    "    )\n",
    "\n",
    "for k in K:\n",
    "    m.addConstr(\n",
    "        gp.quicksum(X[i, k] for i in N) <= cap_transbordo[k]\n",
    "    )\n",
    "\n",
    "for k in K:\n",
    "    m.addConstr(\n",
    "        gp.quicksum(X[i, k] for i in N) == gp.quicksum(X[k, j] for j in M)\n",
    "    )\n",
    "\n",
    "for j in M:\n",
    "    m.addConstr(\n",
    "        gp.quicksum(X[j, o] for o in O) == (gp.quicksum(X[i, j] for i in N) + gp.quicksum(X[k, j] for k in K))\n",
    "    )"
   ]
  },
  {
   "cell_type": "code",
   "execution_count": 15,
   "metadata": {},
   "outputs": [],
   "source": [
    "rest = m.addConstrs(\n",
    "    gp.quicksum(X[i, j] for i in N) >= 0 for j in M\n",
    ")\n",
    "\n",
    "rest = m.addConstrs(\n",
    "    gp.quicksum(X[i, k] for i in N) >= 0 for k in K\n",
    ")\n",
    "\n",
    "rest = m.addConstrs(\n",
    "    gp.quicksum(X[k, j] for k in K) >= 0 for j in M\n",
    ")"
   ]
  },
  {
   "cell_type": "code",
   "execution_count": 16,
   "metadata": {},
   "outputs": [],
   "source": [
    "m.Params.Method = -1"
   ]
  },
  {
   "cell_type": "code",
   "execution_count": 17,
   "metadata": {},
   "outputs": [],
   "source": [
    "vals = []"
   ]
  },
  {
   "cell_type": "code",
   "execution_count": 18,
   "metadata": {},
   "outputs": [
    {
     "name": "stdout",
     "output_type": "stream",
     "text": [
      "Set parameter TimeLimit to value 540\n",
      "Set parameter Threads to value 1\n"
     ]
    }
   ],
   "source": [
    "m.setParam('TimeLimit', 60*9)\n",
    "m.setParam(gp.GRB.Param.Threads, 1)\n",
    "m.Params.LogToConsole = 0"
   ]
  },
  {
   "cell_type": "code",
   "execution_count": 19,
   "metadata": {},
   "outputs": [],
   "source": [
    "m.update()\n",
    "m.optimize()"
   ]
  },
  {
   "cell_type": "code",
   "execution_count": 20,
   "metadata": {},
   "outputs": [],
   "source": [
    "m.write('out.sol')"
   ]
  },
  {
   "cell_type": "code",
   "execution_count": 21,
   "metadata": {},
   "outputs": [],
   "source": [
    "# Executa o modelo\n",
    "cnt = 0\n",
    "m.params.ObjNumber = 1\n",
    "last = m.ObjNVal\n",
    "m.params.ObjNumber = 0\n",
    "while m.Status == gp.GRB.OPTIMAL:\n",
    "    cnt += 1\n",
    "    obj1 = m.ObjNVal\n",
    "    m.params.ObjNumber = 1\n",
    "    obj2 = m.ObjNVal\n",
    "    m.params.ObjNumber = 0\n",
    "    if obj2 - last > 1e-6: break\n",
    "    last = obj2\n",
    "    vals.append([obj1, obj2])\n",
    "    m.addConstr(\n",
    "        (gp.quicksum((X[i, j] * cost[i, j]) for i in N for j in M) + \\\n",
    "        gp.quicksum((X[i, k] * cost[i, k]) for i in N for k in K) + \\\n",
    "        gp.quicksum((X[k, j] * cost[k, j]) for j in M for k in K)) >= obj1 + 5e5,\n",
    "        \"restri_pareto\"\n",
    "    )\n",
    "    m.update()\n",
    "    m.optimize()\n",
    "    restricao_a_remover = m.getConstrByName(\"restri_pareto\")\n",
    "    m.remove(restricao_a_remover)"
   ]
  },
  {
   "cell_type": "code",
   "execution_count": 22,
   "metadata": {},
   "outputs": [
    {
     "data": {
      "text/plain": [
       "(446323875.7600001, 142958845331.20044)"
      ]
     },
     "execution_count": 22,
     "metadata": {},
     "output_type": "execute_result"
    }
   ],
   "source": [
    "obj1, last"
   ]
  },
  {
   "cell_type": "code",
   "execution_count": 23,
   "metadata": {},
   "outputs": [],
   "source": [
    "#m.write(\"out.sol\")"
   ]
  },
  {
   "cell_type": "code",
   "execution_count": 24,
   "metadata": {},
   "outputs": [],
   "source": [
    "cap_inf = 408350021.71000004\n",
    "cap_dem = 410323875.76000011"
   ]
  },
  {
   "cell_type": "code",
   "execution_count": 25,
   "metadata": {},
   "outputs": [
    {
     "data": {
      "text/plain": [
       "True"
      ]
     },
     "execution_count": 25,
     "metadata": {},
     "output_type": "execute_result"
    }
   ],
   "source": [
    "m.Status == gp.GRB.OPTIMAL"
   ]
  },
  {
   "cell_type": "code",
   "execution_count": 26,
   "metadata": {},
   "outputs": [
    {
     "data": {
      "text/plain": [
       "[[410323875.76, 162232216963.24942],\n",
       " [410823875.76, 161123547222.7382],\n",
       " [411323875.76, 160014877482.227],\n",
       " [411823875.76, 158906207741.71573],\n",
       " [412323875.75999993, 158132944071.833],\n",
       " [412823875.75999993, 157463953177.33768],\n",
       " [413323875.75999993, 156794962282.84225],\n",
       " [413823875.7599999, 156125971388.34683],\n",
       " [414323875.7599998, 155456980493.8515],\n",
       " [414823875.7599998, 154804287466.27487],\n",
       " [415323875.7599998, 154452776588.747],\n",
       " [415823875.7599998, 154127082624.85376],\n",
       " [416323875.7599998, 153801388660.9605],\n",
       " [416823875.7599998, 153475694697.06726],\n",
       " [417323875.7599998, 153171925426.8086],\n",
       " [417823875.7599999, 152912169835.86908],\n",
       " [418323875.7599999, 152652414244.92957],\n",
       " [418823875.7599999, 152392658653.99008],\n",
       " [419323875.7599999, 152132903063.0506],\n",
       " [419823875.7599998, 151873147472.11115],\n",
       " [420323875.7599998, 151613391881.1717],\n",
       " [420823875.75999975, 151353636290.23218],\n",
       " [421323875.7599997, 151093880699.29272],\n",
       " [421823875.7599997, 150834125108.35327],\n",
       " [422323875.75999963, 150574369517.4138],\n",
       " [422823875.7599997, 150314613926.47433],\n",
       " [423323875.7599997, 150054858335.53482],\n",
       " [423823875.75999975, 149795102744.59534],\n",
       " [424323875.7599998, 149535347153.65582],\n",
       " [424823875.7599998, 149275591562.7163],\n",
       " [425323875.7599998, 149015835971.77682],\n",
       " [425823875.75999975, 148756080380.8373],\n",
       " [426323875.7599998, 148496324789.8979],\n",
       " [426823875.7599999, 148236569198.95837],\n",
       " [427323875.7599999, 147976813608.01883],\n",
       " [427823875.7599998, 147755020742.76062],\n",
       " [428323875.7599998, 147548893695.326],\n",
       " [428823875.75999975, 147342766647.8913],\n",
       " [429323875.75999975, 147136639600.4567],\n",
       " [429823875.75999975, 146930512553.02203],\n",
       " [430323875.75999975, 146774840077.1379],\n",
       " [430823875.75999975, 146642406802.94434],\n",
       " [431323875.75999975, 146509973528.7508],\n",
       " [431823875.7599998, 146377540254.55725],\n",
       " [432323875.7599998, 146245106980.36368],\n",
       " [432823875.7599998, 146112673706.17014],\n",
       " [433323875.7599998, 145980240431.9766],\n",
       " [433823875.7599998, 145847807157.78305],\n",
       " [434323875.7599998, 145715373883.58948],\n",
       " [434823875.7599998, 145582940609.39594],\n",
       " [435323875.7599999, 145450507335.2024],\n",
       " [435823875.75999993, 145326216684.19006],\n",
       " [436323875.75999993, 145203933920.2223],\n",
       " [436823875.75999993, 145081651156.2545],\n",
       " [437323875.75999993, 144959368392.28665],\n",
       " [437823875.75999993, 144837085628.31888],\n",
       " [438323875.75999993, 144714802864.35107],\n",
       " [438823875.75999993, 144592520100.38327],\n",
       " [439323875.75999993, 144470237336.41547],\n",
       " [439823875.75999993, 144347954572.44766],\n",
       " [440323875.75999993, 144225671808.47986],\n",
       " [440823875.76, 144103389044.51205],\n",
       " [441323875.76000005, 143981106280.54422],\n",
       " [441823875.76000005, 143858823516.57642],\n",
       " [442323875.76000005, 143736540752.6086],\n",
       " [442823875.76000005, 143614257988.6408],\n",
       " [443323875.76000005, 143491975224.673],\n",
       " [443823875.76000005, 143369692460.7052],\n",
       " [444323875.76000005, 143247409696.7374],\n",
       " [444823875.76000005, 143125126932.7696],\n",
       " [445323875.76000005, 143002844168.8018],\n",
       " [445823875.76000005, 142958845331.20044]]"
      ]
     },
     "execution_count": 26,
     "metadata": {},
     "output_type": "execute_result"
    }
   ],
   "source": [
    "vals"
   ]
  },
  {
   "cell_type": "code",
   "execution_count": 27,
   "metadata": {},
   "outputs": [],
   "source": [
    "import seaborn as sns\n",
    "from matplotlib import pyplot as plt"
   ]
  },
  {
   "cell_type": "code",
   "execution_count": 28,
   "metadata": {},
   "outputs": [],
   "source": [
    "x = np.zeros(len(vals))\n",
    "y = np.zeros(len(vals))\n",
    "for i in range(len(vals)):\n",
    "    x[i], y[i] = vals[i]"
   ]
  },
  {
   "cell_type": "code",
   "execution_count": 29,
   "metadata": {},
   "outputs": [
    {
     "data": {
      "text/plain": [
       "Text(0, 0.5, 'Emissao CO2')"
      ]
     },
     "execution_count": 29,
     "metadata": {},
     "output_type": "execute_result"
    },
    {
     "data": {
      "image/png": "[encoded data removed]",
      "text/plain": [
       "<Figure size 1080x576 with 1 Axes>"
      ]
     },
     "metadata": {
      "needs_background": "light"
     },
     "output_type": "display_data"
    }
   ],
   "source": [
    "plt.figure(figsize=(15,8))\n",
    "ax = sns.scatterplot(x=x, y=y)\n",
    "ax.set_xlabel('Custo frete')\n",
    "ax.set_ylabel('Emissao CO2')"
   ]
  },
  {
   "cell_type": "code",
   "execution_count": null,
   "metadata": {},
   "outputs": [],
   "source": []
  },
  {
   "cell_type": "code",
   "execution_count": null,
   "metadata": {},
   "outputs": [],
   "source": []
  },
  {
   "cell_type": "code",
   "execution_count": null,
   "metadata": {},
   "outputs": [],
   "source": []
  }
 ],
 "metadata": {
  "kernelspec": {
   "display_name": "Projetinho",
   "language": "python",
   "name": "projetinho"
  },
  "language_info": {
   "codemirror_mode": {
    "name": "ipython",
    "version": 3
   },
   "file_extension": ".py",
   "mimetype": "text/x-python",
   "name": "python",
   "nbconvert_exporter": "python",
   "pygments_lexer": "ipython3",
   "version": "3.9.2"
  },
  "vscode": {
   "interpreter": {
    "hash": "3c3fdd1ba6fa6149e0a55b9d95e637df8fd62d3a04e8e673bb353b444f545e4d"
   }
  }
 },
 "nbformat": 4,
 "nbformat_minor": 4
}
