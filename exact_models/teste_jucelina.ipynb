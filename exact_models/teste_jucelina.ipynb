{
 "cells": [
  {
   "attachments": {},
   "cell_type": "markdown",
   "metadata": {},
   "source": [
    "**Modelo tipo 1 e 2**\n",
    "\n",
    "* Tipo 1: demanda <= oferta\n",
    "\n",
    "* Tipo 2: demanda >= oferta\n",
    "\n",
    "* fim no cliente"
   ]
  },
  {
   "cell_type": "code",
   "execution_count": 181,
   "metadata": {},
   "outputs": [],
   "source": [
    "import gurobipy as gp\n",
    "import numpy as np\n",
    "import pandas as pd\n",
    "from math import *"
   ]
  },
  {
   "cell_type": "code",
   "execution_count": 182,
   "metadata": {},
   "outputs": [],
   "source": [
    "qnt_orig = 5\n",
    "qnt_trans = 4\n",
    "qnt_port = 2\n",
    "qnt_cli = 1"
   ]
  },
  {
   "cell_type": "code",
   "execution_count": 183,
   "metadata": {},
   "outputs": [],
   "source": [
    "N = [i for i in range(qnt_orig)]\n",
    "M = [i + qnt_orig + qnt_trans for i in range(qnt_port)]\n",
    "K = [i + qnt_orig for i in range(qnt_trans)]\n",
    "O = [i + qnt_orig + qnt_trans + qnt_port for i in range(qnt_cli)]\n",
    "\n",
    "supply = {\n",
    "    0: 243138,\n",
    "    1: 354063,\n",
    "    2: 143703,\n",
    "    3: 755250,\n",
    "    4: 1253270,\n",
    "}\n",
    "\n",
    "demand = {O[0]: 2749424}\n",
    "\n",
    "cap_transbordo = {\n",
    "    K[0]: 691205,\n",
    "    K[1]: 1709592,\n",
    "    K[2]: 223253,\n",
    "    K[3]: 125374\n",
    "}\n",
    "\n",
    "cap_port = {\n",
    "    M[0]: 2577035,\n",
    "    M[1]: 172389\n",
    "}"
   ]
  },
  {
   "cell_type": "code",
   "execution_count": 184,
   "metadata": {},
   "outputs": [],
   "source": [
    "cost = {\n",
    "    (0, M[0]): 217.11, (0, M[1]): 276.58,\n",
    "    (1, M[0]): 230.07, (1, M[1]): 261.53,\n",
    "    (2, M[0]): 165.83, (2, M[1]): 226.65,\n",
    "    (3, M[0]): 157.93, (3, M[1]): 184.61,\n",
    "    (4, M[0]): 130.65, (4, M[1]): 186.55,\n",
    "    \n",
    "    (K[0], M[0]): 81.64, (K[0], M[1]): 153.16,\n",
    "    (K[1], M[0]): 93.82, (K[1], M[1]): 141.19,\n",
    "    (K[2], M[0]): 111.78, (K[2], M[1]): 123.23,\n",
    "    (K[3], M[0]): 84.05, (K[3], M[1]): 111.50,\n",
    "    \n",
    "    (0, K[0]): 93.23, (0, K[1]): 70.72, (0, K[2]): 76.09, (0, K[3]): 102.92,\n",
    "    (1, K[0]): 130.35, (1, K[1]):  112.76, (1, K[2]):  73.70, (1, K[3]):  102.62,\n",
    "    (2, K[0]): 69.98, (2, K[1]):  52.39, (2, K[2]):  23.78, (2, K[3]): 45.68,\n",
    "    (3, K[0]): 97.26, (3, K[1]):  89.65, (3, K[2]):  48.51, (3, K[3]): 41.06,\n",
    "    (4, K[0]):  69.98, (4, K[1]):  73.70, (4, K[2]):  53.43, (4, K[3]): 24.57,\n",
    "}\n",
    "for j in M:\n",
    "    for o in O:\n",
    "        cost[j, o] = 0"
   ]
  },
  {
   "cell_type": "code",
   "execution_count": 185,
   "metadata": {},
   "outputs": [],
   "source": [
    "# cost = {\n",
    "#     (0, M[0]): 20879, (0, M[1]): 27031,\n",
    "#     (1, M[0]): 22220, (1, M[1]): 25474,\n",
    "#     (2, M[0]): 15574, (2, M[1]): 21866,\n",
    "#     (3, M[0]): 14757, (3, M[1]): 17517,\n",
    "#     (4, M[0]): 11935, (4, M[1]): 17718,\n",
    "    \n",
    "#     (K[0], M[0]): 6954.5681, (K[0], M[1]): 16155.4321,\n",
    "#     (K[1], M[0]): 8523.9453, (K[1], M[1]): 14615.8621,\n",
    "#     (K[2], M[0]): 10833.3003, (K[2], M[1]): 12306.5071,\n",
    "#     (K[3], M[0]): 7266.6298, (K[3], M[1]): 12306.5071,\n",
    "    \n",
    "#     (0, K[0]): 8064.66, (0, K[1]): 5736.24, (0, K[2]): 6291.36, (0, K[3]): 9066.96,\n",
    "#     (1, K[0]): 11904.24, (1, K[1]): 10084.68, (1, K[2]): 6044.64, (1, K[3]): 9036.12,\n",
    "#     (2, K[0]): 5659.14, (2, K[1]): 3839.58, (2, K[2]): 880.482, (2, K[3]): 3145.68,\n",
    "#     (3, K[0]): 8481, (3, K[1]): 7694.58, (3, K[2]): 3438.66, (3, K[3]): 2667.66,\n",
    "#     (4, K[0]): 5659.14, (4, K[1]): 6044.64, (4, K[2]): 3947.52, (4, K[3]): 962.208,\n",
    "# }\n",
    "# for j in M:\n",
    "#     for o in O:\n",
    "#         cost[j, o] = 0\n"
   ]
  },
  {
   "cell_type": "code",
   "execution_count": 186,
   "metadata": {},
   "outputs": [
    {
     "name": "stdout",
     "output_type": "stream",
     "text": [
      "ori: [0, 1, 2, 3, 4]\n",
      " port: [9, 10]\n",
      " trans: [5, 6, 7, 8]\n"
     ]
    }
   ],
   "source": [
    "print(f'ori: {N}\\n port: {M}\\n trans: {K}')"
   ]
  },
  {
   "cell_type": "code",
   "execution_count": 187,
   "metadata": {},
   "outputs": [
    {
     "name": "stdout",
     "output_type": "stream",
     "text": [
      "2749424 2749424\n"
     ]
    }
   ],
   "source": [
    "oferta_total = 0\n",
    "for i in supply:\n",
    "    oferta_total += supply[i]\n",
    "demanda_total = 0\n",
    "for i in demand:\n",
    "    demanda_total += demand[i]\n",
    "\n",
    "print(oferta_total, demanda_total)"
   ]
  },
  {
   "cell_type": "code",
   "execution_count": 188,
   "metadata": {},
   "outputs": [],
   "source": [
    "m = gp.Model(\"probrema\")"
   ]
  },
  {
   "cell_type": "code",
   "execution_count": 189,
   "metadata": {},
   "outputs": [],
   "source": [
    "X = {}\n",
    "for i in N:\n",
    "    for j in M:\n",
    "        X[i, j] = m.addVar(vtype=gp.GRB.CONTINUOUS, lb=0, name=\"supply_{}_port_{}\".format(i, j))\n",
    "\n",
    "for i in N:\n",
    "    for k in K:\n",
    "        X[i, k] = m.addVar(vtype=gp.GRB.CONTINUOUS, lb=0, name=\"supply_{}_tranship_{}\".format(i, k))\n",
    "                \n",
    "for j in M:\n",
    "    for k in K:\n",
    "        X[k, j] = m.addVar(vtype=gp.GRB.CONTINUOUS, lb=0, name=\"tranship_{}_port_{}\".format(k, j))\n",
    "\n",
    "for j in M:\n",
    "    for o in O:\n",
    "        X[j, o] = m.addVar(vtype=gp.GRB.CONTINUOUS, lb=0, name=\"X_{}_{}\".format(j, o))"
   ]
  },
  {
   "cell_type": "code",
   "execution_count": 190,
   "metadata": {},
   "outputs": [],
   "source": [
    "m.setObjective(\n",
    "    gp.quicksum((X[i, j] * cost[i, j]) for i in N for j in M) + \\\n",
    "    gp.quicksum((X[i, k] * cost[i, k]) for i in N for k in K) + \\\n",
    "    gp.quicksum((X[k, j] * cost[k, j]) for j in M for k in K),\n",
    "    sense=gp.GRB.MINIMIZE\n",
    ")"
   ]
  },
  {
   "cell_type": "code",
   "execution_count": 191,
   "metadata": {},
   "outputs": [],
   "source": [
    "if oferta_total <= demanda_total:\n",
    "    for i in N:\n",
    "        m.addConstr(\n",
    "            (gp.quicksum(X[i, j] for j in M) + gp.quicksum(X[i, k] for k in K)) == supply[i]\n",
    "        )\n",
    "else:\n",
    "    for i in N:\n",
    "        m.addConstr(\n",
    "            (gp.quicksum(X[i, j] for j in M) + gp.quicksum(X[i, k] for k in K)) <= supply[i]\n",
    "        )"
   ]
  },
  {
   "cell_type": "code",
   "execution_count": 192,
   "metadata": {},
   "outputs": [],
   "source": [
    "if oferta_total <= demanda_total:\n",
    "    for o in O:\n",
    "        m.addConstr(\n",
    "            gp.quicksum(X[j, o] for j in M) <= demand[o]\n",
    "        )\n",
    "else:\n",
    "    for o in O:\n",
    "        m.addConstr(\n",
    "            gp.quicksum(X[j, o] for j in M) == demand[o]\n",
    "        )"
   ]
  },
  {
   "cell_type": "code",
   "execution_count": 193,
   "metadata": {},
   "outputs": [],
   "source": [
    "for j in M:\n",
    "    m.addConstr(\n",
    "        (gp.quicksum(X[i, j] for i in N) + gp.quicksum(X[k, j] for k in K)) <= cap_port[j]\n",
    "    )\n",
    "\n",
    "for k in K:\n",
    "    m.addConstr(\n",
    "        gp.quicksum(X[i, k] for i in N) <= cap_transbordo[k]\n",
    "    )\n",
    "\n",
    "for k in K:\n",
    "    m.addConstr(\n",
    "        gp.quicksum(X[i, k] for i in N) == gp.quicksum(X[k, j] for j in M)\n",
    "    )\n",
    "\n",
    "for j in M:\n",
    "    m.addConstr(\n",
    "        gp.quicksum(X[j, o] for o in O) == (gp.quicksum(X[i, j] for i in N) + gp.quicksum(X[k, j] for k in K))\n",
    "    )"
   ]
  },
  {
   "cell_type": "code",
   "execution_count": 194,
   "metadata": {},
   "outputs": [],
   "source": [
    "rest = m.addConstrs(\n",
    "    gp.quicksum(X[i, j] for i in N) >= 0 for j in M\n",
    ")\n",
    "\n",
    "rest = m.addConstrs(\n",
    "    gp.quicksum(X[i, k] for i in N) >= 0 for k in K\n",
    ")\n",
    "\n",
    "rest = m.addConstrs(\n",
    "    gp.quicksum(X[k, j] for k in K) >= 0 for j in M\n",
    ")"
   ]
  },
  {
   "cell_type": "code",
   "execution_count": 195,
   "metadata": {},
   "outputs": [],
   "source": [
    "m.Params.Method = -1"
   ]
  },
  {
   "cell_type": "code",
   "execution_count": 196,
   "metadata": {},
   "outputs": [
    {
     "name": "stdout",
     "output_type": "stream",
     "text": [
      "Gurobi Optimizer version 10.0.0 build v10.0.0rc2 (win64)\n",
      "\n",
      "CPU model: Intel(R) Core(TM) i5-8265U CPU @ 1.60GHz, instruction set [SSE2|AVX|AVX2]\n",
      "Thread count: 4 physical cores, 8 logical processors, using up to 8 threads\n",
      "\n",
      "Optimize a model with 26 rows, 40 columns and 156 nonzeros\n",
      "Model fingerprint: 0x2ee0e6f4\n",
      "Coefficient statistics:\n",
      "  Matrix range     [1e+00, 1e+00]\n",
      "  Objective range  [2e+01, 3e+02]\n",
      "  Bounds range     [0e+00, 0e+00]\n",
      "  RHS range        [1e+05, 3e+06]\n",
      "Presolve removed 10 rows and 2 columns\n",
      "Presolve time: 0.00s\n",
      "Presolved: 16 rows, 38 columns, 114 nonzeros\n",
      "\n",
      "Iteration    Objective       Primal Inf.    Dual Inf.      Time\n",
      "       0    1.0850983e+08   8.493989e+05   0.000000e+00      0s\n",
      "      14    4.1032388e+08   0.000000e+00   0.000000e+00      0s\n",
      "\n",
      "Solved in 14 iterations and 0.01 seconds (0.00 work units)\n",
      "Optimal objective  4.103238758e+08\n"
     ]
    }
   ],
   "source": [
    "# Executa o modelo\n",
    "m.update()\n",
    "m.optimize()"
   ]
  },
  {
   "cell_type": "code",
   "execution_count": 197,
   "metadata": {},
   "outputs": [],
   "source": [
    "m.write(\"out.sol\")"
   ]
  },
  {
   "cell_type": "code",
   "execution_count": 198,
   "metadata": {},
   "outputs": [],
   "source": [
    "cap_inf = 408350021.71000004\n",
    "cap_dem = 410323875.76000011"
   ]
  },
  {
   "cell_type": "code",
   "execution_count": null,
   "metadata": {},
   "outputs": [],
   "source": []
  },
  {
   "cell_type": "code",
   "execution_count": null,
   "metadata": {},
   "outputs": [],
   "source": []
  },
  {
   "cell_type": "code",
   "execution_count": null,
   "metadata": {},
   "outputs": [],
   "source": []
  },
  {
   "cell_type": "code",
   "execution_count": null,
   "metadata": {},
   "outputs": [],
   "source": []
  },
  {
   "cell_type": "code",
   "execution_count": null,
   "metadata": {},
   "outputs": [],
   "source": []
  }
 ],
 "metadata": {
  "kernelspec": {
   "display_name": "Projetinho",
   "language": "python",
   "name": "projetinho"
  },
  "language_info": {
   "codemirror_mode": {
    "name": "ipython",
    "version": 3
   },
   "file_extension": ".py",
   "mimetype": "text/x-python",
   "name": "python",
   "nbconvert_exporter": "python",
   "pygments_lexer": "ipython3",
   "version": "3.9.2"
  },
  "vscode": {
   "interpreter": {
    "hash": "3c3fdd1ba6fa6149e0a55b9d95e637df8fd62d3a04e8e673bb353b444f545e4d"
   }
  }
 },
 "nbformat": 4,
 "nbformat_minor": 4
}
