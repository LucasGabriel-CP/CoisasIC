{
 "cells": [
  {
   "cell_type": "code",
   "execution_count": 1,
   "metadata": {},
   "outputs": [],
   "source": [
    "import gurobipy as gp"
   ]
  },
  {
   "cell_type": "code",
   "execution_count": 2,
   "metadata": {},
   "outputs": [
    {
     "name": "stdout",
     "output_type": "stream",
     "text": [
      "690 610\n"
     ]
    }
   ],
   "source": [
    "# Parâmetros do problema\n",
    "qtd_fabricas = 4\n",
    "qtd_clientes = 9\n",
    "\n",
    "# INSTÂNCIA 1 (Oferta maior que a demanda)\n",
    "vet_ofertas = [140, 160, 200, 190]\n",
    "vet_demandas = [50, 80, 30, 50, 100, 90, 20, 70, 120]\n",
    "\n",
    "vet_custos = [[12, 25, 39, 17, 38, 40, 8, 25, 13],\n",
    "              [17, 26, 20, 25, 30, 25, 14, 20, 15],\n",
    "              [35, 15, 18, 20, 12, 42, 27, 26, 19],\n",
    "              [28, 30, 37, 30, 28, 36, 16, 24, 32]]\n",
    "\n",
    "oferta_total = sum(vet_ofertas)\n",
    "demanda_total = sum(vet_demandas)\n",
    "print(oferta_total, demanda_total)"
   ]
  },
  {
   "cell_type": "code",
   "execution_count": 3,
   "metadata": {},
   "outputs": [],
   "source": [
    "# Rótulos das fábricas e clientes\n",
    "fabricas = list()\n",
    "for i in range(qtd_fabricas):\n",
    "    fabricas.append(\"Fab_{}\".format(i + 1))\n",
    "\n",
    "clientes = list()\n",
    "for j in range(qtd_clientes):\n",
    "    clientes.append(\"Cli_{}\".format(j + 1))"
   ]
  },
  {
   "cell_type": "code",
   "execution_count": 4,
   "metadata": {},
   "outputs": [],
   "source": [
    "# Dicionários com as ofertas\n",
    "ofertas = dict()\n",
    "for idx, valor in enumerate(vet_ofertas):\n",
    "    rotulo = fabricas[idx]\n",
    "    ofertas[rotulo] = valor\n",
    "\n",
    "# Dicionários com as demandas\n",
    "demandas = dict()\n",
    "for idx, valor in enumerate(vet_demandas):\n",
    "    rotulo = clientes[idx]\n",
    "    demandas[rotulo] = valor"
   ]
  },
  {
   "cell_type": "code",
   "execution_count": 5,
   "metadata": {},
   "outputs": [],
   "source": [
    "custos = dict()\n",
    "for i in range(qtd_fabricas):\n",
    "    for j in range(qtd_clientes):\n",
    "        rot_fab = fabricas[i]\n",
    "        rot_cli = clientes[j]\n",
    "        custos[rot_fab, rot_cli] = vet_custos[i][j]"
   ]
  },
  {
   "cell_type": "code",
   "execution_count": 6,
   "metadata": {},
   "outputs": [
    {
     "name": "stdout",
     "output_type": "stream",
     "text": [
      "Gurobi Optimizer version 10.0.0 build v10.0.0rc2 (win64)\n",
      "\n",
      "CPU model: Intel(R) Core(TM) i5-8265U CPU @ 1.60GHz, instruction set [SSE2|AVX|AVX2]\n",
      "Thread count: 4 physical cores, 8 logical processors, using up to 8 threads\n",
      "\n",
      "Optimize a model with 13 rows, 36 columns and 72 nonzeros\n",
      "Model fingerprint: 0xa70d03da\n",
      "Variable types: 0 continuous, 36 integer (0 binary)\n",
      "Coefficient statistics:\n",
      "  Matrix range     [1e+00, 1e+00]\n",
      "  Objective range  [8e+00, 4e+01]\n",
      "  Bounds range     [0e+00, 0e+00]\n",
      "  RHS range        [2e+01, 2e+02]\n",
      "Found heuristic solution: objective 13740.000000\n",
      "Presolve time: 0.02s\n",
      "Presolved: 13 rows, 36 columns, 72 nonzeros\n",
      "Variable types: 0 continuous, 36 integer (0 binary)\n",
      "Found heuristic solution: objective 13669.000000\n",
      "\n",
      "Root relaxation: objective 1.060000e+04, 13 iterations, 0.01 seconds (0.00 work units)\n",
      "\n",
      "    Nodes    |    Current Node    |     Objective Bounds      |     Work\n",
      " Expl Unexpl |  Obj  Depth IntInf | Incumbent    BestBd   Gap | It/Node Time\n",
      "\n",
      "*    0     0               0    10600.000000 10600.0000  0.00%     -    0s\n",
      "\n",
      "Explored 1 nodes (13 simplex iterations) in 0.06 seconds (0.00 work units)\n",
      "Thread count was 8 (of 8 available processors)\n",
      "\n",
      "Solution count 3: 10600 13669 13740 \n",
      "\n",
      "Optimal solution found (tolerance 1.00e-04)\n",
      "Best objective 1.060000000000e+04, best bound 1.060000000000e+04, gap 0.0000%\n"
     ]
    }
   ],
   "source": [
    "m = gp.Model()\n",
    "\n",
    "# Variáveis de decisão\n",
    "x = m.addVars(fabricas, clientes, vtype=gp.GRB.INTEGER)\n",
    "\n",
    "# Função objetivo\n",
    "m.setObjective(\n",
    "    gp.quicksum(x[i, j] * custos[i, j] for i in fabricas for j in clientes),\n",
    "    sense=gp.GRB.MINIMIZE)\n",
    "\n",
    "# Restrições de oferta\n",
    "if oferta_total > demanda_total:\n",
    "    c1 = m.addConstrs(\n",
    "        gp.quicksum(x[i, j] for j in clientes) <= ofertas[i] for i in fabricas)\n",
    "else:\n",
    "    c1 = m.addConstrs(\n",
    "        gp.quicksum(x[i, j] for j in clientes) == ofertas[i] for i in fabricas)\n",
    "\n",
    "# Restrições de demanda\n",
    "if demanda_total > oferta_total:\n",
    "    c2 = m.addConstrs(\n",
    "        gp.quicksum(x[i, j] for i in fabricas) <= demandas[j] for j in clientes)\n",
    "else:\n",
    "    c2 = m.addConstrs(\n",
    "        gp.quicksum(x[i, j] for i in fabricas) == demandas[j] for j in clientes)\n",
    "\n",
    "# Executa o modelo\n",
    "m.optimize()"
   ]
  },
  {
   "cell_type": "code",
   "execution_count": 7,
   "metadata": {},
   "outputs": [
    {
     "name": "stdout",
     "output_type": "stream",
     "text": [
      "Origem: Fab_1\n",
      "Transportar 50 unidades para Cli_1\n",
      "Transportar 30 unidades para Cli_4\n",
      "Transportar 60 unidades para Cli_9\n",
      "\n",
      "Origem: Fab_2\n",
      "Transportar 10 unidades para Cli_3\n",
      "Transportar 90 unidades para Cli_6\n",
      "Transportar 60 unidades para Cli_9\n",
      "\n",
      "Origem: Fab_3\n",
      "Transportar 80 unidades para Cli_2\n",
      "Transportar 20 unidades para Cli_3\n",
      "Transportar 100 unidades para Cli_5\n",
      "\n",
      "Origem: Fab_4\n",
      "Transportar 20 unidades para Cli_4\n",
      "Transportar 20 unidades para Cli_7\n",
      "Transportar 70 unidades para Cli_8\n",
      "\n"
     ]
    }
   ],
   "source": [
    "# Imprime o plano de transporte das fábricas\n",
    "for i in fabricas:\n",
    "    print(\"Origem:\", i)\n",
    "    for j in clientes:\n",
    "        qtd = round(x[i, j].X)\n",
    "        if qtd > 0:\n",
    "            print(\"Transportar {} unidades para {}\".format(qtd, j))\n",
    "    print(\"\")"
   ]
  },
  {
   "cell_type": "code",
   "execution_count": 8,
   "metadata": {},
   "outputs": [
    {
     "name": "stdout",
     "output_type": "stream",
     "text": [
      "As fábricas a seguir tem capacidade excedente:\n",
      "Fábrica: Fab_4 80 unidades\n"
     ]
    }
   ],
   "source": [
    "# Relatório de oferta ou demanda desbalanceada\n",
    "if oferta_total > demanda_total:\n",
    "    print(\"As fábricas a seguir tem capacidade excedente:\")\n",
    "    for i in fabricas:\n",
    "        sobra = round(c1[i].Slack)\n",
    "        if sobra > 0:\n",
    "            print(\"Fábrica:\", i, sobra, \"unidades\")\n",
    "elif demanda_total > oferta_total:\n",
    "    print(\"Os clientes a seguir não tiveram toda a demanda atendida:\")\n",
    "    for j in clientes:\n",
    "        sobra = round(c2[j].Slack)\n",
    "        if sobra > 0:\n",
    "            print(\"Cliente:\", j, sobra, \"unidades\")\n",
    "else:\n",
    "    print(\"A oferta e demanda estão balanceadas\")"
   ]
  },
  {
   "cell_type": "code",
   "execution_count": null,
   "metadata": {},
   "outputs": [],
   "source": []
  },
  {
   "cell_type": "code",
   "execution_count": null,
   "metadata": {},
   "outputs": [],
   "source": []
  },
  {
   "cell_type": "code",
   "execution_count": null,
   "metadata": {},
   "outputs": [],
   "source": []
  },
  {
   "cell_type": "code",
   "execution_count": null,
   "metadata": {},
   "outputs": [],
   "source": []
  },
  {
   "cell_type": "code",
   "execution_count": null,
   "metadata": {},
   "outputs": [],
   "source": []
  },
  {
   "cell_type": "code",
   "execution_count": null,
   "metadata": {},
   "outputs": [],
   "source": []
  },
  {
   "cell_type": "code",
   "execution_count": null,
   "metadata": {},
   "outputs": [],
   "source": []
  }
 ],
 "metadata": {
  "kernelspec": {
   "display_name": "Python 3",
   "language": "python",
   "name": "python3"
  },
  "language_info": {
   "codemirror_mode": {
    "name": "ipython",
    "version": 3
   },
   "file_extension": ".py",
   "mimetype": "text/x-python",
   "name": "python",
   "nbconvert_exporter": "python",
   "pygments_lexer": "ipython3",
   "version": "3.9.2"
  }
 },
 "nbformat": 4,
 "nbformat_minor": 4
}
